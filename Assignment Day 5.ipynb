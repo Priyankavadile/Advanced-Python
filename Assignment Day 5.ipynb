{
 "cells": [
  {
   "cell_type": "markdown",
   "metadata": {},
   "source": [
    "# Assigmenet Day - 5 "
   ]
  },
  {
   "cell_type": "code",
   "execution_count": 2,
   "metadata": {},
   "outputs": [
    {
     "name": "stdout",
     "output_type": "stream",
     "text": [
      "['Agent-X', 'Hitler', 'Agent 13']\n"
     ]
    }
   ],
   "source": [
    "dict = {'Nick Fury':['Tony Stark','Maria Hill','Norman Osborn'],\n",
    "        'Hulk':['Tony Stark','HawkEye','Rogers'],\n",
    "        'Rogers':['Thor'],\n",
    "        'Tony Stark':['Pepper Pots','Nick Fury'],\n",
    "        'Agent 13' : ['Agent-X', 'Nick Fury', 'Hitler'],\n",
    "        'Thor': ['HawkEye', 'BlackWidow'],\n",
    "        'BlackWidow':['HawkEye'], \n",
    "        'Maria Hill' : ['Hulk', 'Rogers', 'Nick Fury'], \n",
    "        'Agent-X' : ['Agent 13', 'Rogers'], \n",
    "        'Norman Osborn': ['Tony Stark', 'Thor']\n",
    "}\n",
    "\n",
    "def main():\n",
    "    tup = []\n",
    "    list_dict = []\n",
    "    flag  = 0 \n",
    "    \n",
    "\n",
    "    '''creating an array of tuples for all the SHIELD members.\n",
    "    Every tuple has two elements : (SHIELD member name, Flag)\n",
    "    ***Flag is set to 1 when the member name is visited i.e. becomes the key \n",
    "    in the dictionary such that its values are accessed'''\n",
    "    tup.append(('Nick Fury',1))\n",
    "    for el in dict['Nick Fury']:\n",
    "            tup.append((el,0))\n",
    "    \n",
    "    for k,v in enumerate(tup):\n",
    "        \n",
    "        if tup[k][1] == 0:\n",
    "            temp = list(tup[k])\n",
    "            temp[1] = 1\n",
    "            tup[k] = tuple(temp)\n",
    "            if tup[k][0] in dict.keys():\n",
    "                \n",
    "                for el in dict[tup[k][0]]:\n",
    "                    flag = 0\n",
    "                    for item in tup:\n",
    "                        if item[0] == el:\n",
    "                            flag = 1\n",
    "                            break\n",
    "                    \n",
    "                    if flag == 0:\n",
    "                        tup.append((el,0))\n",
    "    \n",
    "   \n",
    "    for key in dict.keys():\n",
    "        for val in dict[key]:\n",
    "            if val not in list_dict:\n",
    "                list_dict.append(val)\n",
    "\n",
    "    \n",
    "    tup_names, flag = zip(*tup)\n",
    "    tup_names = list(tup_names)\n",
    "   \n",
    "   \n",
    "    for person in tup_names:\n",
    "        list_dict.remove(person)\n",
    "\n",
    "   \n",
    "    print (list_dict)\n",
    "    \n",
    "   \n",
    "\n",
    "if __name__ == \"__main__\":\n",
    "    main()"
   ]
  },
  {
   "cell_type": "code",
   "execution_count": null,
   "metadata": {},
   "outputs": [],
   "source": []
  },
  {
   "cell_type": "code",
   "execution_count": null,
   "metadata": {},
   "outputs": [],
   "source": []
  }
 ],
 "metadata": {
  "kernelspec": {
   "display_name": "Python 3",
   "language": "python",
   "name": "python3"
  },
  "language_info": {
   "codemirror_mode": {
    "name": "ipython",
    "version": 3
   },
   "file_extension": ".py",
   "mimetype": "text/x-python",
   "name": "python",
   "nbconvert_exporter": "python",
   "pygments_lexer": "ipython3",
   "version": "3.7.3"
  }
 },
 "nbformat": 4,
 "nbformat_minor": 2
}
