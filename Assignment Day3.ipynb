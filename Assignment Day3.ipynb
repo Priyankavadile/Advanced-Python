{
 "cells": [
  {
   "cell_type": "code",
   "execution_count": 48,
   "metadata": {
    "scrolled": true
   },
   "outputs": [
    {
     "name": "stdout",
     "output_type": "stream",
     "text": [
      "['192.168.10.4', '192.168.10.9', '192.168.10.11', '192.168.10.35']\n"
     ]
    }
   ],
   "source": [
    "#Q1. Sort the elements \n",
    "\n",
    "list3 = [\"192.168.10.9\", \"192.168.10.4\", \"192.168.10.11\", \"192.168.10.35\"]\n",
    "\n",
    "def func1(list3):\n",
    "    a = list3.rsplit(\".\",1)[-1]\n",
    "    return int(a)\n",
    " \n",
    "list3.sort(key = func1)\n",
    "print(list3)"
   ]
  },
  {
   "cell_type": "code",
   "execution_count": 51,
   "metadata": {},
   "outputs": [
    {
     "data": {
      "text/plain": [
       "[1, 1, 1, 1, 1, 1, 2, 2, 2, 3, 3, 3, 21, 24, 45, 0, 0, 0, 0, 0, 0]"
      ]
     },
     "execution_count": 51,
     "metadata": {},
     "output_type": "execute_result"
    }
   ],
   "source": [
    "#Q2. Sort the elements but put all the zero's at the end\n",
    "\n",
    "list1 = [1,2,3,0,2,3,0,1,24,0,1,3,1,0,1,21,0,1,2,0,45]\n",
    "\n",
    "def move_zero(list1):\n",
    "    list1.sort()\n",
    "    x = [0 for each in range(list1.count(0))]\n",
    "    y = [each for each in list1 if each != 0]\n",
    "    y.extend(x)\n",
    "    return(y)\n",
    "    print(list1)\n",
    "    \n",
    "move_zero(list1)"
   ]
  },
  {
   "cell_type": "code",
   "execution_count": 50,
   "metadata": {},
   "outputs": [
    {
     "name": "stdout",
     "output_type": "stream",
     "text": [
      "[(9, 1), (9, 5), (10, 4), (10, 4), (90, 3)]\n"
     ]
    }
   ],
   "source": [
    "#Q3. Sort the elements in sum\n",
    "\n",
    "list =[(10,4),(90,3),(9,1),(10,4),(9,5)]\n",
    "def funct(x):\n",
    "    return x[0]+1\n",
    "list.sort(key=funct)\n",
    "print(list)"
   ]
  },
  {
   "cell_type": "code",
   "execution_count": 18,
   "metadata": {},
   "outputs": [
    {
     "name": "stdout",
     "output_type": "stream",
     "text": [
      "4\n"
     ]
    }
   ],
   "source": [
    "#Q4. Find all occurence given by list\n",
    "list = [1,2,3,4,5,56,6,1,2,3,4,1,3,2,3]\n",
    "print(list.count(3))"
   ]
  },
  {
   "cell_type": "code",
   "execution_count": 15,
   "metadata": {},
   "outputs": [
    {
     "name": "stdout",
     "output_type": "stream",
     "text": [
      "2\n"
     ]
    }
   ],
   "source": [
    "#Find all occurence given by list\n",
    "list = [1,2,3,4,5,56,6,1,2,3,4,1,3,2,3]\n",
    "print(list.index(3))"
   ]
  },
  {
   "cell_type": "code",
   "execution_count": null,
   "metadata": {},
   "outputs": [],
   "source": []
  }
 ],
 "metadata": {
  "kernelspec": {
   "display_name": "Python 3",
   "language": "python",
   "name": "python3"
  },
  "language_info": {
   "codemirror_mode": {
    "name": "ipython",
    "version": 3
   },
   "file_extension": ".py",
   "mimetype": "text/x-python",
   "name": "python",
   "nbconvert_exporter": "python",
   "pygments_lexer": "ipython3",
   "version": "3.7.3"
  }
 },
 "nbformat": 4,
 "nbformat_minor": 2
}
